{
 "cells": [
  {
   "cell_type": "code",
   "execution_count": 234,
   "id": "expected-heavy",
   "metadata": {},
   "outputs": [
    {
     "name": "stdout",
     "output_type": "stream",
     "text": [
      "Requirement already satisfied: stockfish in /home/ada/pythonJupyter/jupyterenvironment/lib/python3.8/site-packages (3.17.0)\n",
      "\u001b[33mWARNING: You are using pip version 21.2.2; however, version 21.2.4 is available.\n",
      "You should consider upgrading via the '/home/ada/pythonJupyter/jupyterenvironment/bin/python -m pip install --upgrade pip' command.\u001b[0m\n"
     ]
    }
   ],
   "source": [
    "!pip install stockfish\n",
    "import tensorflow as tf\n",
    "import re\n",
    "import chess\n",
    "from stockfish import Stockfish\n",
    "import numpy as np\n",
    "import pandas as pd\n",
    "import chess_funcs as chess_funcs\n",
    "import random\n",
    "import matplotlib.pyplot as plt"
   ]
  },
  {
   "cell_type": "markdown",
   "id": "closing-halifax",
   "metadata": {},
   "source": [
    "## Overview\n",
    "\n",
    "The purpose of this notebook is to compare the recommendations provided by application against the ratings provided by stock fish.\n",
    "\n",
    "The game data used here was taken from the FICS database for the year 2018."
   ]
  },
  {
   "cell_type": "markdown",
   "id": "emerging-strength",
   "metadata": {},
   "source": [
    "## Read in Game Data and Model"
   ]
  },
  {
   "cell_type": "code",
   "execution_count": 2,
   "id": "instructional-kennedy",
   "metadata": {},
   "outputs": [],
   "source": [
    "def readFile(file_name):\n",
    "    chess_list = []\n",
    "    chess_game = {}\n",
    "    with open(file_name) as f:\n",
    "        for index, line in enumerate(f):\n",
    "            \n",
    "            line = line.strip()\n",
    "            if len(line) == 0:\n",
    "                continue\n",
    "            if line[0] == '[':\n",
    "                line = line.replace('[', '')\n",
    "                line = line.replace(']', '')\n",
    "                line = line.replace('\"', '')\n",
    "                \n",
    "                key,value = line.split(' ', 1)\n",
    "                chess_game[key] = value\n",
    "            elif line[0] == '1':\n",
    "                line = re.sub('\\d*\\.', ':', line).strip()\n",
    "                chess_game['game'] = line.split(\":\")[1:]\n",
    "                chess_list.append(chess_game)\n",
    "                chess_game = {}\n",
    "    return chess_list\n",
    "chess_data = readFile('2018')\n",
    "chess_data_cleaned = []\n",
    "for game in chess_data:\n",
    "    if len(game['Result']) == 3:\n",
    "        chess_data_cleaned.append(game)\n",
    "chess_list = chess_data_cleaned"
   ]
  },
  {
   "cell_type": "markdown",
   "id": "comparable-envelope",
   "metadata": {},
   "source": [
    "Next proces the game data to be a list of game moves in UCI notation"
   ]
  },
  {
   "cell_type": "code",
   "execution_count": 3,
   "id": "million-range",
   "metadata": {},
   "outputs": [],
   "source": [
    "game_stack = []\n",
    "for game in chess_list:\n",
    "    board = chess.Board()\n",
    "    for turn in game['game']:\n",
    "        if turn.find(\"{\") != -1:\n",
    "            continue\n",
    "        turn = turn.strip()\n",
    "        turn = turn.split(\" \")\n",
    "        if len(turn) > 1:\n",
    "            board.push_san(turn[0])\n",
    "            board.push_san(turn[1])\n",
    "        elif len(turn) == 1:\n",
    "            board.push_san(turn[0])\n",
    "    game_stack.append(board.move_stack)"
   ]
  },
  {
   "cell_type": "code",
   "execution_count": 4,
   "id": "overhead-jerusalem",
   "metadata": {},
   "outputs": [
    {
     "data": {
      "text/plain": [
       "66393"
      ]
     },
     "execution_count": 4,
     "metadata": {},
     "output_type": "execute_result"
    }
   ],
   "source": [
    "len(game_stack)"
   ]
  },
  {
   "cell_type": "markdown",
   "id": "functioning-speaking",
   "metadata": {},
   "source": [
    "## Instantiate Stockfish and ML Model"
   ]
  },
  {
   "cell_type": "code",
   "execution_count": 5,
   "id": "considered-drilling",
   "metadata": {},
   "outputs": [],
   "source": [
    "stockfish = Stockfish('/usr/games/stockfish')\n",
    "stockfish = Stockfish(parameters={\"Threads\": 2, \"Minimum Thinking Time\": 30})\n",
    "model = tf.keras.models.load_model('chess_10000_10_redux.h5')"
   ]
  },
  {
   "cell_type": "markdown",
   "id": "copyrighted-certificate",
   "metadata": {},
   "source": [
    "Convert the UCI moves from a chess move object to a string. Both Chess and Stockfish understand strings containing UCI moves."
   ]
  },
  {
   "cell_type": "code",
   "execution_count": 6,
   "id": "artistic-coral",
   "metadata": {},
   "outputs": [],
   "source": [
    "##convert games to text:\n",
    "for x in range(0, len(game_stack)):\n",
    "    for y in range(0, len(game_stack[x])):\n",
    "        game_stack[x][y] = str(game_stack[x][y])"
   ]
  },
  {
   "cell_type": "code",
   "execution_count": null,
   "id": "latter-dutch",
   "metadata": {
    "scrolled": true
   },
   "outputs": [],
   "source": [
    "performance = pd.DataFrame(columns=['pressure_cp',\n",
    "                                    'ml_cp',\n",
    "                                    'stockfish_cp',\n",
    "                                    'stockfish1400_cp',\n",
    "                                    'stockfish800_cp',\n",
    "                                    'random_cp',\n",
    "                                   'player'])\n",
    "count = 0\n",
    "for game in game_stack[0:(60*4)]:\n",
    "    count +=1\n",
    "    player = 'W'\n",
    "    stockfish = Stockfish('/usr/games/stockfish')\n",
    "    for move in range(0, len(game)):\n",
    "        board = chess.Board()\n",
    "        for step in range(0,move):\n",
    "            board.push_uci(game[step])\n",
    "        if move % 2 == 0:\n",
    "            player = 'W'\n",
    "        else:\n",
    "            player = 'B'\n",
    "        positions = chess_funcs.translate(str(board))\n",
    "        if player == 'W':\n",
    "            press, press_val, ml, ml_val = chess_funcs.recommend_white(chess_funcs.create_board_from_positions(positions), model)\n",
    "        else:\n",
    "            press, press_val, ml, ml_val = chess_funcs.recommend_black(chess_funcs.create_board_from_positions(positions), model)\n",
    "        #print(move)\n",
    "        #print(stockfish.get_best_move())\n",
    "        stockfish = Stockfish('/usr/games/stockfish')\n",
    "        stockfish.set_position(game[0:move])\n",
    "        best = stockfish.get_best_move()\n",
    "        stockfish = Stockfish('/usr/games/stockfish')\n",
    "        stockfish.set_position(game[0:move] + [best])\n",
    "        #print(stockfish.get_board_visual())\n",
    "        stockfish_recommendation_cp = stockfish.get_evaluation()['value']  \n",
    "        #print(press)\n",
    "        stockfish = Stockfish('/usr/games/stockfish')\n",
    "        stockfish.set_position(game[0:move] + [press])\n",
    "        #print(stockfish.get_board_visual())\n",
    "        pressure_recommendation_cp = stockfish.get_evaluation()['value']\n",
    "        stockfish = Stockfish('/usr/games/stockfish')\n",
    "        stockfish.set_position(game[0:move] + [ml])\n",
    "        #print(ml)\n",
    "        #print(stockfish.get_board_visual())\n",
    "        ml_recommendation_cp = stockfish.get_evaluation()['value']\n",
    "        legal_moves = []\n",
    "        for san in board.legal_moves:\n",
    "            legal_moves.append(str(san))\n",
    "        random_move = legal_moves[random.randint(0,len(legal_moves)-1)]\n",
    "        #print(random_move)\n",
    "        stockfish = Stockfish('/usr/games/stockfish')\n",
    "        stockfish.set_position(game[0:move] + [str(random_move)])\n",
    "        #print(stockfish.get_board_visual())\n",
    "        random_cp = stockfish.get_evaluation()['value']\n",
    "\n",
    "        stockfish1400 = Stockfish('/usr/games/stockfish')\n",
    "        stockfish1400.set_elo_rating(1400)\n",
    "        stockfish1400.set_position(game[0:move])\n",
    "        best = stockfish1400.get_best_move()\n",
    "        stockfish = Stockfish('/usr/games/stockfish')\n",
    "        stockfish.set_position(game[0:move] + [best])\n",
    "        stockfish1400_recommendation_cp = stockfish.get_evaluation()['value']  \n",
    "\n",
    "        stockfish800 = Stockfish('/usr/games/stockfish')\n",
    "        stockfish800.set_elo_rating(800)\n",
    "        stockfish800.set_position(game[0:move])\n",
    "        best = stockfish800.get_best_move()\n",
    "        stockfish = Stockfish('/usr/games/stockfish')\n",
    "        stockfish.set_position(game[0:move] + [best])\n",
    "        stockfish800_recommendation_cp = stockfish.get_evaluation()['value']  \n",
    "\n",
    "\n",
    "        metrics = {\n",
    "        'pressure_cp':pressure_recommendation_cp,\n",
    "        'ml_cp': ml_recommendation_cp,\n",
    "        'stockfish_cp':stockfish_recommendation_cp,\n",
    "        'stockfish1400_cp':stockfish1400_recommendation_cp,\n",
    "        'stockfish800_cp':stockfish800_recommendation_cp,\n",
    "        'random_cp': random_cp,\n",
    "        'player': player}\n",
    "        performance = performance.append(metrics, ignore_index = True)\n"
   ]
  },
  {
   "cell_type": "code",
   "execution_count": null,
   "id": "knowing-hardware",
   "metadata": {},
   "outputs": [],
   "source": [
    "performance.head(5)"
   ]
  },
  {
   "cell_type": "markdown",
   "id": "provincial-nowhere",
   "metadata": {},
   "source": [
    "Calculate the differences between the Centipawn evaluation of the moves chosen by the pressure recommender, the model recommender, a stockfish at elo 1400, a stockfish at elo 800, and a random move."
   ]
  },
  {
   "cell_type": "code",
   "execution_count": null,
   "id": "steady-insider",
   "metadata": {},
   "outputs": [],
   "source": [
    "performance.insert(1, column='pressure_stock_diff', value= performance.pressure_cp.values -  performance.stockfish_cp.values)"
   ]
  },
  {
   "cell_type": "code",
   "execution_count": null,
   "id": "higher-health",
   "metadata": {},
   "outputs": [],
   "source": [
    "performance.insert(1, column='ml_stock_diff', value= performance.ml_cp.values -  performance.stockfish_cp.values)"
   ]
  },
  {
   "cell_type": "code",
   "execution_count": null,
   "id": "productive-robinson",
   "metadata": {},
   "outputs": [],
   "source": [
    "performance.insert(1, column='stockfish1400_stock_diff', value= performance.stockfish1400_cp.values -  performance.stockfish_cp.values)"
   ]
  },
  {
   "cell_type": "code",
   "execution_count": null,
   "id": "decreased-format",
   "metadata": {},
   "outputs": [],
   "source": [
    "performance.insert(1, column='stockfish800_stock_diff', value= performance.stockfish800_cp.values -  performance.stockfish_cp.values)"
   ]
  },
  {
   "cell_type": "code",
   "execution_count": null,
   "id": "determined-wheat",
   "metadata": {},
   "outputs": [],
   "source": [
    "performance.insert(1, column='random_stock_diff', value= performance.random_cp.values -  performance.stockfish_cp.values)"
   ]
  },
  {
   "cell_type": "code",
   "execution_count": null,
   "id": "african-apollo",
   "metadata": {},
   "outputs": [],
   "source": [
    "performance.head()"
   ]
  },
  {
   "cell_type": "markdown",
   "id": "egyptian-anderson",
   "metadata": {},
   "source": [
    "Next convert the stockfish differences to positive numbers"
   ]
  },
  {
   "cell_type": "code",
   "execution_count": null,
   "id": "guided-pollution",
   "metadata": {},
   "outputs": [],
   "source": [
    "performance['random_stock_diff']= performance.apply(lambda x: abs(x['random_stock_diff']), axis = 1)"
   ]
  },
  {
   "cell_type": "code",
   "execution_count": null,
   "id": "difficult-recorder",
   "metadata": {},
   "outputs": [],
   "source": [
    "performance['pressure_stock_diff']= performance.apply(lambda x: abs(x['pressure_stock_diff']), axis = 1)\n",
    "performance['stockfish800_stock_diff']= performance.apply(lambda x: abs(x['stockfish800_stock_diff']), axis = 1)\n",
    "performance['stockfish1400_stock_diff']= performance.apply(lambda x: abs(x['stockfish1400_stock_diff']), axis = 1)\n",
    "performance['ml_stock_diff']= performance.apply(lambda x: abs(x['ml_stock_diff']), axis = 1)\n",
    "performance.head()"
   ]
  },
  {
   "cell_type": "markdown",
   "id": "bright-climate",
   "metadata": {},
   "source": [
    "## Compare Centipawn Differences"
   ]
  },
  {
   "cell_type": "markdown",
   "id": "valued-anderson",
   "metadata": {},
   "source": [
    "### Random Moves"
   ]
  },
  {
   "cell_type": "code",
   "execution_count": null,
   "id": "difficult-hospital",
   "metadata": {},
   "outputs": [],
   "source": [
    "performance['random_stock_diff'].describe()"
   ]
  },
  {
   "cell_type": "code",
   "execution_count": null,
   "id": "unsigned-highland",
   "metadata": {},
   "outputs": [],
   "source": [
    "plt.boxplot(performance['random_stock_diff'])\n",
    "plt.show()"
   ]
  },
  {
   "cell_type": "markdown",
   "id": "systematic-there",
   "metadata": {},
   "source": [
    "### Pressure Based Recommendation"
   ]
  },
  {
   "cell_type": "code",
   "execution_count": null,
   "id": "particular-vehicle",
   "metadata": {},
   "outputs": [],
   "source": [
    "performance['pressure_stock_diff'].describe()"
   ]
  },
  {
   "cell_type": "code",
   "execution_count": null,
   "id": "twelve-success",
   "metadata": {},
   "outputs": [],
   "source": [
    "plt.boxplot(performance['pressure_stock_diff'])\n",
    "plt.show()"
   ]
  },
  {
   "cell_type": "markdown",
   "id": "structural-sound",
   "metadata": {},
   "source": [
    "### Model Based Recommendation"
   ]
  },
  {
   "cell_type": "code",
   "execution_count": null,
   "id": "sapphire-excess",
   "metadata": {},
   "outputs": [],
   "source": [
    "performance['ml_stock_diff'].describe()"
   ]
  },
  {
   "cell_type": "code",
   "execution_count": null,
   "id": "sharing-cherry",
   "metadata": {},
   "outputs": [],
   "source": [
    "plt.boxplot(performance['ml_stock_diff'])\n",
    "plt.show()"
   ]
  },
  {
   "cell_type": "markdown",
   "id": "labeled-honey",
   "metadata": {},
   "source": [
    "## Stockfish Elo 1400"
   ]
  },
  {
   "cell_type": "code",
   "execution_count": null,
   "id": "regulation-settlement",
   "metadata": {},
   "outputs": [],
   "source": [
    "performance['stockfish1400_stock_diff'].describe()"
   ]
  },
  {
   "cell_type": "code",
   "execution_count": null,
   "id": "quantitative-directory",
   "metadata": {},
   "outputs": [],
   "source": [
    "plt.boxplot(performance['stockfish1400_stock_diff'])\n",
    "plt.show()"
   ]
  },
  {
   "cell_type": "markdown",
   "id": "expected-reynolds",
   "metadata": {},
   "source": [
    "## Stockfish Elo 800"
   ]
  },
  {
   "cell_type": "code",
   "execution_count": null,
   "id": "smart-bottom",
   "metadata": {},
   "outputs": [],
   "source": [
    "performance['stockfish800_stock_diff'].describe()"
   ]
  },
  {
   "cell_type": "code",
   "execution_count": null,
   "id": "listed-creativity",
   "metadata": {},
   "outputs": [],
   "source": [
    "plt.boxplot(performance['stockfish800_stock_diff'])\n",
    "plt.show()"
   ]
  },
  {
   "cell_type": "markdown",
   "id": "promising-mainstream",
   "metadata": {},
   "source": [
    "# Model on Game Performance"
   ]
  },
  {
   "cell_type": "code",
   "execution_count": 235,
   "id": "stainless-furniture",
   "metadata": {},
   "outputs": [],
   "source": [
    "def get_prediction(board_string, model):\n",
    "    positions = chess_funcs.translate(str(board))\n",
    "    base, val = chess_funcs.board_eval(positions)\n",
    "    board_percents = np.dstack(val)\n",
    "    #board_percents  = np.rollaxis(board_percents,-3)\n",
    "    ml = model.predict(board_percents)[0, 0] * 100\n",
    "    return ml"
   ]
  },
  {
   "cell_type": "markdown",
   "id": "sexual-terry",
   "metadata": {},
   "source": [
    "We know that the first game was a loss for white and a win for black. Lets look at how the model reviews the moves made by white an black."
   ]
  },
  {
   "cell_type": "code",
   "execution_count": 273,
   "id": "comfortable-landscape",
   "metadata": {},
   "outputs": [
    {
     "name": "stdout",
     "output_type": "stream",
     "text": [
      "0-1\n"
     ]
    }
   ],
   "source": [
    "game = random.randint(0,len(chess_list)-1)\n",
    "game1 = chess_list[game]\n",
    "print(game1['Result'])\n",
    "game1_moves =  game_stack[game]\n",
    "all_recs = []\n",
    "white_recs = []\n",
    "stock_white= []\n",
    "black_recs = []\n",
    "stock_black = [] \n",
    "stock_both = []\n",
    "board = chess.Board()\n",
    "for index, move in enumerate(game1_moves):\n",
    "    stockfish.set_position(game1_moves[0:index])\n",
    "    board.push_uci(move)\n",
    "    if (board.turn):\n",
    "        rec = get_prediction(str(board), model)\n",
    "        all_recs.append(rec)\n",
    "        white_recs.append(rec)\n",
    "        stock_white.append(stockfish.get_evaluation()['value']  )\n",
    "        stock_both.append(stockfish.get_evaluation()['value']  )\n",
    "    else:\n",
    "        rec = get_prediction(str(board), model)\n",
    "        all_recs.append(rec)\n",
    "        black_recs.append(rec)\n",
    "        stock_black.append(stockfish.get_evaluation()['value']  )\n",
    "        stock_both.append(stockfish.get_evaluation()['value']  )"
   ]
  },
  {
   "cell_type": "code",
   "execution_count": 274,
   "id": "impossible-strap",
   "metadata": {},
   "outputs": [
    {
     "data": {
      "image/png": "[encoded data removed]",
      "text/plain": [
       "<Figure size 432x288 with 1 Axes>"
      ]
     },
     "metadata": {
      "needs_background": "light"
     },
     "output_type": "display_data"
    },
    {
     "name": "stdout",
     "output_type": "stream",
     "text": [
      "Average Rating:  71.07750642817102\n"
     ]
    }
   ],
   "source": [
    "plt.plot(range(0,len(all_recs)), all_recs)\n",
    "plt.suptitle('Classification for All Moves')\n",
    "plt.show()\n",
    "print('Average Rating: ',np.mean(all_recs))"
   ]
  },
  {
   "cell_type": "code",
   "execution_count": 275,
   "id": "alternative-production",
   "metadata": {},
   "outputs": [
    {
     "data": {
      "image/png": "[encoded data removed]",
      "text/plain": [
       "<Figure size 432x288 with 1 Axes>"
      ]
     },
     "metadata": {
      "needs_background": "light"
     },
     "output_type": "display_data"
    }
   ],
   "source": [
    "plt.plot(range(0,len(stock_both)), stock_both)\n",
    "plt.suptitle('Evaluation for All Moves')\n",
    "plt.show()"
   ]
  },
  {
   "cell_type": "code",
   "execution_count": 276,
   "id": "english-excuse",
   "metadata": {
    "scrolled": false
   },
   "outputs": [
    {
     "data": {
      "image/png": "[encoded data removed]",
      "text/plain": [
       "<Figure size 432x288 with 1 Axes>"
      ]
     },
     "metadata": {
      "needs_background": "light"
     },
     "output_type": "display_data"
    },
    {
     "name": "stdout",
     "output_type": "stream",
     "text": [
      "Average Rating:  68.30612747642253\n"
     ]
    }
   ],
   "source": [
    "plt.plot(range(0,len(white_recs)), white_recs)\n",
    "plt.suptitle('Classification for White Moves')\n",
    "plt.show()\n",
    "print('Average Rating: ',np.mean(white_recs))"
   ]
  },
  {
   "cell_type": "markdown",
   "id": "above-solomon",
   "metadata": {},
   "source": [
    "plt.plot(range(0,len(stock_white)), stock_white)\n",
    "plt.suptitle('Evaluation for White Moves')\n",
    "plt.show()"
   ]
  },
  {
   "cell_type": "code",
   "execution_count": 277,
   "id": "crazy-postage",
   "metadata": {
    "scrolled": true
   },
   "outputs": [
    {
     "name": "stdout",
     "output_type": "stream",
     "text": [
      "Average Rating:  73.84888537991952\n"
     ]
    },
    {
     "data": {
      "image/png": "[encoded data removed]",
      "text/plain": [
       "<Figure size 432x288 with 1 Axes>"
      ]
     },
     "metadata": {
      "needs_background": "light"
     },
     "output_type": "display_data"
    }
   ],
   "source": [
    "plt.plot(range(0,len(black_recs)), black_recs)\n",
    "plt.suptitle('Classification for Black Moves')\n",
    "print('Average Rating: ',np.mean(black_recs))"
   ]
  },
  {
   "cell_type": "markdown",
   "id": "trained-torture",
   "metadata": {},
   "source": [
    "plt.plot(range(0,len(stock_black)), stock_black)\n",
    "plt.suptitle('Evaluation for Black Moves')\n",
    "plt.show()"
   ]
  },
  {
   "cell_type": "code",
   "execution_count": null,
   "id": "durable-syracuse",
   "metadata": {},
   "outputs": [],
   "source": []
  }
 ],
 "metadata": {
  "kernelspec": {
   "display_name": "Python 3",
   "language": "python",
   "name": "python3"
  },
  "language_info": {
   "codemirror_mode": {
    "name": "ipython",
    "version": 3
   },
   "file_extension": ".py",
   "mimetype": "text/x-python",
   "name": "python",
   "nbconvert_exporter": "python",
   "pygments_lexer": "ipython3",
   "version": "3.8.10"
  }
 },
 "nbformat": 4,
 "nbformat_minor": 5
}
