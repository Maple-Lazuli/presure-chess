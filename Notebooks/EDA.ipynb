{
 "cells": [
  {
   "cell_type": "code",
   "execution_count": 1,
   "id": "former-flavor",
   "metadata": {},
   "outputs": [],
   "source": [
    "import pandas as pd\n",
    "import re\n",
    "import chess\n",
    "import numpy as np\n",
    "import matplotlib.pyplot as plt"
   ]
  },
  {
   "cell_type": "markdown",
   "id": "statewide-saver",
   "metadata": {},
   "source": [
    "## Exploring The Data Format from [FICS](https://www.ficsgames.org/cgi-bin/download.cgi)\n",
    "\n",
    "__NOTE:__ The extracted data from FICs is not included here due to sharing and usage concerns.\n",
    "\n",
    "The data explored here was all of the game data from 2018. Although, only a small fraction of this huge dataset has been extracted and processed at this time. It takes a very long time to do."
   ]
  },
  {
   "cell_type": "code",
   "execution_count": 2,
   "id": "imposed-fairy",
   "metadata": {},
   "outputs": [
    {
     "name": "stdout",
     "output_type": "stream",
     "text": [
      "[Event \"FICS unrated standard game\"]\r",
      "\r\n",
      "[Site \"FICS freechess.org\"]\r",
      "\r\n",
      "[FICSGamesDBGameNo \"450002740\"]\r",
      "\r\n",
      "[White \"konozrout\"]\r",
      "\r\n",
      "[Black \"khadem\"]\r",
      "\r\n",
      "[WhiteElo \"2301\"]\r",
      "\r\n",
      "[BlackElo \"2874\"]\r",
      "\r\n",
      "[WhiteRD \"49.7\"]\r",
      "\r\n",
      "[BlackRD \"46.8\"]\r",
      "\r\n",
      "[WhiteIsComp \"Yes\"]\r",
      "\r\n",
      "[BlackIsComp \"Yes\"]\r",
      "\r\n",
      "[TimeControl \"900+5\"]\r",
      "\r\n",
      "[Date \"2018.12.31\"]\r",
      "\r\n",
      "[Time \"23:23:00\"]\r",
      "\r\n",
      "[WhiteClock \"0:15:00.000\"]\r",
      "\r\n",
      "[BlackClock \"0:15:00.000\"]\r",
      "\r\n",
      "[ECO \"D13\"]\r",
      "\r\n",
      "[PlyCount \"82\"]\r",
      "\r\n",
      "[Result \"0-1\"]\r",
      "\r\n",
      "\r",
      "\r\n",
      "1. c4 Nf6 2. d4 c6 3. Nf3 d5 4. cxd5 cxd5 5. Nc3 a6 6. Bf4 Nc6 7. Rc1 Bf5 8. e3 Rc8 9. Be2 e6 10. O-O Nd7 11. Na4 h6 12. Bd3 Bxd3 13. Qxd3 Be7 14. Qb3 Na5 15. Qd1 O-O 16. Rxc8 Qxc8 17. Qe1 Nc6 18. Qd2 b5 19. Nc3 Qb7 20. Ne2 Nb6 21. Rc1 Nc4 22. Qc2 Rc8 23. b3 Nb4 24. Qb1 Na3 25. Qa1 g5 26. Bg3 Nbc2 27. Qb2 f6 28. Nc3 Bb4 29. Ne2 Qh7 30. Rd1 Nxe3 31. Rc1 Nec2 32. Kh1 Kf7 33. Nfg1 h5 34. f4 h4 35. Bf2 gxf4 36. Nxf4 Qe4 37. Nxd5 exd5 38. Rf1 Rg8 39. Bg3 hxg3 40. h3 Ne3 41. Rc1 Nac2 {White resigns} 0-1\r",
      "\r\n",
      "\r\n",
      "[Event \"FICS rated standard game\"]\r",
      "\r\n",
      "[Site \"FICS freechess.org\"]\r",
      "\r\n",
      "[FICSGamesDBGameNo \"450002529\"]\r",
      "\r\n",
      "[White \"exeComp\"]\r",
      "\r\n",
      "[Black \"malesposo\"]\r",
      "\r\n",
      "[WhiteElo \"2632\"]\r",
      "\r\n",
      "[BlackElo \"1449\"]\r",
      "\r\n",
      "[WhiteRD \"48.3\"]\r",
      "\r\n"
     ]
    }
   ],
   "source": [
    "# Do a head on the data to see the format\n",
    "!head -n 30 2018 "
   ]
  },
  {
   "cell_type": "markdown",
   "id": "behind-gambling",
   "metadata": {},
   "source": [
    "The data appears to be a loosely structured test document where individual games are seperated by new lines, and the meta-data associated with the games is in brackets.\n",
    "\n",
    "Additionally it looks like the games are seperated numerically and has the move made by White and Black in between each number, such as\n",
    "` <turn number> <white move> <black move> <turn number> <white move>  <black move>`"
   ]
  },
  {
   "cell_type": "markdown",
   "id": "combined-withdrawal",
   "metadata": {},
   "source": [
    "Furthermore, it looks like the move notation is SAN. Pawn movements are listed by file. So White's first move of c4 means move the c2 pawn to position c4. \n",
    "\n",
    "The prefixes N, Q, R, B, and K refer to Knight, Queen, Rook, Bishop, and King respectively. "
   ]
  },
  {
   "cell_type": "code",
   "execution_count": 3,
   "id": "moved-purchase",
   "metadata": {},
   "outputs": [
    {
     "data": {
      "text/plain": [
       "{'Event': 'FICS unrated standard game',\n",
       " 'Site': 'FICS freechess.org',\n",
       " 'FICSGamesDBGameNo': '450002740',\n",
       " 'White': 'konozrout',\n",
       " 'Black': 'khadem',\n",
       " 'WhiteElo': '2301',\n",
       " 'BlackElo': '2874',\n",
       " 'WhiteRD': '49.7',\n",
       " 'BlackRD': '46.8',\n",
       " 'WhiteIsComp': 'Yes',\n",
       " 'BlackIsComp': 'Yes',\n",
       " 'TimeControl': '900+5',\n",
       " 'Date': '2018.12.31',\n",
       " 'Time': '23:23:00',\n",
       " 'WhiteClock': '0:15:00.000',\n",
       " 'BlackClock': '0:15:00.000',\n",
       " 'ECO': 'D13',\n",
       " 'PlyCount': '82',\n",
       " 'Result': '0-1',\n",
       " 'game': [' c4 Nf6 ',\n",
       "  ' d4 c6 ',\n",
       "  ' Nf3 d5 ',\n",
       "  ' cxd5 cxd5 ',\n",
       "  ' Nc3 a6 ',\n",
       "  ' Bf4 Nc6 ',\n",
       "  ' Rc1 Bf5 ',\n",
       "  ' e3 Rc8 ',\n",
       "  ' Be2 e6 ',\n",
       "  ' O-O Nd7 ',\n",
       "  ' Na4 h6 ',\n",
       "  ' Bd3 Bxd3 ',\n",
       "  ' Qxd3 Be7 ',\n",
       "  ' Qb3 Na5 ',\n",
       "  ' Qd1 O-O ',\n",
       "  ' Rxc8 Qxc8 ',\n",
       "  ' Qe1 Nc6 ',\n",
       "  ' Qd2 b5 ',\n",
       "  ' Nc3 Qb7 ',\n",
       "  ' Ne2 Nb6 ',\n",
       "  ' Rc1 Nc4 ',\n",
       "  ' Qc2 Rc8 ',\n",
       "  ' b3 Nb4 ',\n",
       "  ' Qb1 Na3 ',\n",
       "  ' Qa1 g5 ',\n",
       "  ' Bg3 Nbc2 ',\n",
       "  ' Qb2 f6 ',\n",
       "  ' Nc3 Bb4 ',\n",
       "  ' Ne2 Qh7 ',\n",
       "  ' Rd1 Nxe3 ',\n",
       "  ' Rc1 Nec2 ',\n",
       "  ' Kh1 Kf7 ',\n",
       "  ' Nfg1 h5 ',\n",
       "  ' f4 h4 ',\n",
       "  ' Bf2 gxf4 ',\n",
       "  ' Nxf4 Qe4 ',\n",
       "  ' Nxd5 exd5 ',\n",
       "  ' Rf1 Rg8 ',\n",
       "  ' Bg3 hxg3 ',\n",
       "  ' h3 Ne3 ',\n",
       "  ' Rc1 Nac2 {White resigns} 0-1']}"
      ]
     },
     "execution_count": 3,
     "metadata": {},
     "output_type": "execute_result"
    }
   ],
   "source": [
    "## Code to convert the games to a python dictionary\n",
    "def readFile(file_name):\n",
    "    chess_list = []\n",
    "    chess_game = {}\n",
    "    with open(file_name) as f:\n",
    "        for index, line in enumerate(f):\n",
    "            \n",
    "            line = line.strip()\n",
    "            if len(line) == 0:\n",
    "                continue\n",
    "            if line[0] == '[':\n",
    "                line = line.replace('[', '')\n",
    "                line = line.replace(']', '')\n",
    "                line = line.replace('\"', '')\n",
    "                \n",
    "                key,value = line.split(' ', 1)\n",
    "                chess_game[key] = value\n",
    "            elif line[0] == '1':\n",
    "                line = re.sub('\\d*\\.', ':', line).strip()\n",
    "                chess_game['game'] = line.split(\":\")[1:]\n",
    "                chess_list.append(chess_game)\n",
    "                chess_game = {}\n",
    "    return chess_list\n",
    "\n",
    "chess_data = readFile('2018')\n",
    "chess_data[0]"
   ]
  },
  {
   "cell_type": "markdown",
   "id": "general-refund",
   "metadata": {},
   "source": [
    "## Statistical Distribution Of The Data Set"
   ]
  },
  {
   "cell_type": "markdown",
   "id": "expensive-uncertainty",
   "metadata": {},
   "source": [
    "### Ratio of White to Black Wins"
   ]
  },
  {
   "cell_type": "code",
   "execution_count": 4,
   "id": "capable-district",
   "metadata": {},
   "outputs": [
    {
     "name": "stdout",
     "output_type": "stream",
     "text": [
      "{'1/2-1/2', '1-0', '0-1'}\n"
     ]
    }
   ],
   "source": [
    "# First look at the possible values for the results field\n",
    "outcomes = set()\n",
    "for game in chess_data:\n",
    "    outcomes.add(game['Result'])\n",
    "print(outcomes)"
   ]
  },
  {
   "cell_type": "code",
   "execution_count": 5,
   "id": "limited-lottery",
   "metadata": {},
   "outputs": [
    {
     "name": "stdout",
     "output_type": "stream",
     "text": [
      "11927\n"
     ]
    }
   ],
   "source": [
    "#For the classifications, lets not use the draw games as it can be unclear is there were good moves or not.\n",
    "chess_data_cleaned = []\n",
    "for game in chess_data:\n",
    "    if len(game['Result']) == 3:\n",
    "        chess_data_cleaned.append(game)\n",
    "print(len(chess_data) - len(chess_data_cleaned))"
   ]
  },
  {
   "cell_type": "code",
   "execution_count": 6,
   "id": "pacific-financing",
   "metadata": {},
   "outputs": [
    {
     "name": "stdout",
     "output_type": "stream",
     "text": [
      "{'1-0', '0-1'}\n"
     ]
    }
   ],
   "source": [
    "outcomes = set()\n",
    "for game in chess_data_cleaned:\n",
    "    outcomes.add(game['Result'])\n",
    "print(outcomes) "
   ]
  },
  {
   "cell_type": "code",
   "execution_count": 7,
   "id": "interior-narrative",
   "metadata": {},
   "outputs": [],
   "source": [
    "white_wins = []\n",
    "for game in chess_data:\n",
    "    if game['Result'][0] == '0':\n",
    "        white_wins.append(0)\n",
    "    if game['Result'][0] == '1':\n",
    "        white_wins.append(1)"
   ]
  },
  {
   "cell_type": "code",
   "execution_count": 8,
   "id": "quality-counter",
   "metadata": {},
   "outputs": [],
   "source": [
    "white_wins = np.array(white_wins)\n",
    "white_wins.mean()\n",
    "white_wins_count = sum(white_wins == 1)\n",
    "black_wins_count = sum(white_wins == 0)\n"
   ]
  },
  {
   "cell_type": "code",
   "execution_count": 9,
   "id": "rolled-lemon",
   "metadata": {},
   "outputs": [
    {
     "name": "stdout",
     "output_type": "stream",
     "text": [
      "white: 46846\n",
      "black: 31474\n"
     ]
    }
   ],
   "source": [
    "print('white:', white_wins_count)\n",
    "print('black:', black_wins_count)"
   ]
  },
  {
   "cell_type": "code",
   "execution_count": 10,
   "id": "leading-trader",
   "metadata": {},
   "outputs": [
    {
     "data": {
      "image/png": "[encoded data removed]",
      "text/plain": [
       "<Figure size 432x288 with 1 Axes>"
      ]
     },
     "metadata": {
      "needs_background": "light"
     },
     "output_type": "display_data"
    }
   ],
   "source": [
    "plt.bar(height =  [white_wins_count, black_wins_count], x = ['white', 'black'])\n",
    "plt.xlabel('Player')\n",
    "plt.ylabel('Wins')\n",
    "plt.suptitle('Comparison of Wins')\n",
    "plt.show()"
   ]
  },
  {
   "cell_type": "markdown",
   "id": "incorporate-burke",
   "metadata": {},
   "source": [
    "\n",
    "### 5 Number Summary Of Game Lengths\n"
   ]
  },
  {
   "cell_type": "code",
   "execution_count": 12,
   "id": "typical-blackberry",
   "metadata": {},
   "outputs": [
    {
     "name": "stdout",
     "output_type": "stream",
     "text": [
      "number of games  66393\n"
     ]
    }
   ],
   "source": [
    "## Look at the 5 number summary of the game lengths\n",
    "import numpy as np\n",
    "game_lengths = []\n",
    "for game in chess_data_cleaned:\n",
    "    game_lengths.append(len(game['game']))\n",
    "print('number of games ', len(game_lengths))"
   ]
  },
  {
   "cell_type": "markdown",
   "id": "liable-jason",
   "metadata": {},
   "source": [
    "__Note__: The _'length'_ here is the number of turns. The number of moves is approximately twice this number since each player makes one move per turn"
   ]
  },
  {
   "cell_type": "code",
   "execution_count": 14,
   "id": "published-county",
   "metadata": {},
   "outputs": [
    {
     "name": "stdout",
     "output_type": "stream",
     "text": [
      "min 1\n",
      "Q1 22.0\n",
      "Median 32.0\n",
      "Q3 45.0\n",
      "max 292\n"
     ]
    },
    {
     "data": {
      "image/png": "[encoded data removed]",
      "text/plain": [
       "<Figure size 432x288 with 1 Axes>"
      ]
     },
     "metadata": {
      "needs_background": "light"
     },
     "output_type": "display_data"
    }
   ],
   "source": [
    "game_lengths = np.array(game_lengths)\n",
    "print('min', game_lengths.min())\n",
    "print('Q1', np.percentile(game_lengths, 25))\n",
    "print('Median',np.percentile(game_lengths, 50))\n",
    "print('Q3', np.percentile(game_lengths, 75))\n",
    "print('max', game_lengths.max())\n",
    "plt.boxplot(game_lengths)\n",
    "plt.show()"
   ]
  },
  {
   "cell_type": "code",
   "execution_count": 15,
   "id": "desperate-dividend",
   "metadata": {},
   "outputs": [
    {
     "data": {
      "image/png": "[encoded data removed]",
      "text/plain": [
       "<Figure size 432x288 with 1 Axes>"
      ]
     },
     "metadata": {
      "needs_background": "light"
     },
     "output_type": "display_data"
    }
   ],
   "source": [
    "plt.hist(game_lengths, bins=int(len(set(game_lengths))/2))\n",
    "plt.show()"
   ]
  },
  {
   "cell_type": "code",
   "execution_count": null,
   "id": "detected-brass",
   "metadata": {},
   "outputs": [],
   "source": []
  }
 ],
 "metadata": {
  "kernelspec": {
   "display_name": "Python 3",
   "language": "python",
   "name": "python3"
  },
  "language_info": {
   "codemirror_mode": {
    "name": "ipython",
    "version": 3
   },
   "file_extension": ".py",
   "mimetype": "text/x-python",
   "name": "python",
   "nbconvert_exporter": "python",
   "pygments_lexer": "ipython3",
   "version": "3.8.10"
  }
 },
 "nbformat": 4,
 "nbformat_minor": 5
}
