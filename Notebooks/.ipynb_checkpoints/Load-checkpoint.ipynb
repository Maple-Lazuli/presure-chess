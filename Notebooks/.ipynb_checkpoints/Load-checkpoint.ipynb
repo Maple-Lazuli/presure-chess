{
 "cells": [
  {
   "cell_type": "code",
   "execution_count": 60,
   "id": "norwegian-contrast",
   "metadata": {},
   "outputs": [],
   "source": [
    "import tensorflow as tf\n",
    "import pandas as pd\n",
    "import numpy as np"
   ]
  },
  {
   "cell_type": "markdown",
   "id": "therapeutic-spotlight",
   "metadata": {},
   "source": [
    "## Load Data\n",
    "Load the previously extracted and transformed data and drop games that do not have a clear winner."
   ]
  },
  {
   "cell_type": "code",
   "execution_count": 61,
   "id": "cordless-direction",
   "metadata": {},
   "outputs": [],
   "source": [
    "df = pd.read_pickle('2018_10000_redux.pkl')\n",
    "df = df[df['winner'] != '1/2']"
   ]
  },
  {
   "cell_type": "markdown",
   "id": "returning-mexican",
   "metadata": {},
   "source": [
    "Fix the shape of the data to one that can be used in the model."
   ]
  },
  {
   "cell_type": "code",
   "execution_count": 62,
   "id": "primary-reset",
   "metadata": {},
   "outputs": [],
   "source": [
    "layouts = df['layout'].to_list()\n",
    "fix = np.dstack(layouts)\n",
    "fix = np.rollaxis(fix,-1)\n",
    "target = df['winner'].astype('int')\n",
    "fix.shape"
   ]
  },
  {
   "cell_type": "markdown",
   "id": "anonymous-chain",
   "metadata": {},
   "source": [
    "### Test Train Split\n",
    "Split the data into the training set and the testing set. Due to the variability of the board, use a ratio of 20/80"
   ]
  },
  {
   "cell_type": "code",
   "execution_count": 64,
   "id": "ancient-alfred",
   "metadata": {},
   "outputs": [],
   "source": [
    "from sklearn.model_selection import train_test_split\n",
    "x_train, x_test, y_train, y_test = train_test_split(fix,target, test_size=0.2)"
   ]
  },
  {
   "cell_type": "code",
   "execution_count": 65,
   "id": "considerable-order",
   "metadata": {},
   "outputs": [
    {
     "data": {
      "text/plain": [
       "(476464, 8, 8)"
      ]
     },
     "execution_count": 65,
     "metadata": {},
     "output_type": "execute_result"
    }
   ],
   "source": [
    "x_train.shape"
   ]
  },
  {
   "cell_type": "markdown",
   "id": "motivated-banner",
   "metadata": {},
   "source": [
    "### Create The Model\n",
    "\n",
    "Start with an LSTM then perfrom a few dropouts to prevent overlearning of some weights, then end with a sigmoid to classify. \n",
    "\n",
    "The number 512 was used after experimenting and noticing that larger numbers had diminishing returns.\n",
    "\n",
    "A value of 1 means its a winning move for White and a value of 0 means its a winning game for Black."
   ]
  },
  {
   "cell_type": "code",
   "execution_count": 66,
   "id": "decent-speech",
   "metadata": {},
   "outputs": [
    {
     "name": "stdout",
     "output_type": "stream",
     "text": [
      "Model: \"model_6\"\n",
      "_________________________________________________________________\n",
      "Layer (type)                 Output Shape              Param #   \n",
      "=================================================================\n",
      "input_7 (InputLayer)         [(None, 8, 8)]            0         \n",
      "_________________________________________________________________\n",
      "lstm_6 (LSTM)                (None, 8, 512)            1067008   \n",
      "_________________________________________________________________\n",
      "global_max_pooling1d_6 (Glob (None, 512)               0         \n",
      "_________________________________________________________________\n",
      "dense_20 (Dense)             (None, 512)               262656    \n",
      "_________________________________________________________________\n",
      "dropout_14 (Dropout)         (None, 512)               0         \n",
      "_________________________________________________________________\n",
      "dense_21 (Dense)             (None, 512)               262656    \n",
      "_________________________________________________________________\n",
      "dropout_15 (Dropout)         (None, 512)               0         \n",
      "_________________________________________________________________\n",
      "dense_22 (Dense)             (None, 1)                 513       \n",
      "=================================================================\n",
      "Total params: 1,592,833\n",
      "Trainable params: 1,592,833\n",
      "Non-trainable params: 0\n",
      "_________________________________________________________________\n",
      "Epoch 1/20\n",
      "14890/14890 [==============================] - 329s 22ms/step - loss: 0.5824 - accuracy: 0.6721 - val_loss: 0.5197 - val_accuracy: 0.7216\n",
      "Epoch 2/20\n",
      "14890/14890 [==============================] - 316s 21ms/step - loss: 0.4580 - accuracy: 0.7623 - val_loss: 0.4010 - val_accuracy: 0.7987\n",
      "Epoch 3/20\n",
      "14890/14890 [==============================] - 315s 21ms/step - loss: 0.3485 - accuracy: 0.8252 - val_loss: 0.3447 - val_accuracy: 0.8306\n",
      "Epoch 4/20\n",
      "14890/14890 [==============================] - 315s 21ms/step - loss: 0.2839 - accuracy: 0.8591 - val_loss: 0.3007 - val_accuracy: 0.8536\n",
      "Epoch 5/20\n",
      "14890/14890 [==============================] - 328s 22ms/step - loss: 0.2453 - accuracy: 0.8783 - val_loss: 0.2802 - val_accuracy: 0.8649\n",
      "Epoch 6/20\n",
      "14890/14890 [==============================] - 315s 21ms/step - loss: 0.2206 - accuracy: 0.8904 - val_loss: 0.2800 - val_accuracy: 0.8706\n",
      "Epoch 7/20\n",
      "14890/14890 [==============================] - 318s 21ms/step - loss: 0.2040 - accuracy: 0.8987 - val_loss: 0.2672 - val_accuracy: 0.8769\n",
      "Epoch 8/20\n",
      "14890/14890 [==============================] - 324s 22ms/step - loss: 0.1923 - accuracy: 0.9039 - val_loss: 0.2650 - val_accuracy: 0.8794\n",
      "Epoch 9/20\n",
      "14890/14890 [==============================] - 320s 21ms/step - loss: 0.1826 - accuracy: 0.9085 - val_loss: 0.2602 - val_accuracy: 0.8837\n",
      "Epoch 10/20\n",
      "14890/14890 [==============================] - 327s 22ms/step - loss: 0.1755 - accuracy: 0.9117 - val_loss: 0.2593 - val_accuracy: 0.8860\n",
      "Epoch 11/20\n",
      "14890/14890 [==============================] - 331s 22ms/step - loss: 0.1692 - accuracy: 0.9146 - val_loss: 0.2545 - val_accuracy: 0.8911\n",
      "Epoch 12/20\n",
      "14890/14890 [==============================] - 322s 22ms/step - loss: 0.1647 - accuracy: 0.9170 - val_loss: 0.2520 - val_accuracy: 0.8879\n",
      "Epoch 13/20\n",
      "14890/14890 [==============================] - 328s 22ms/step - loss: 0.1595 - accuracy: 0.9193 - val_loss: 0.2503 - val_accuracy: 0.8908\n",
      "Epoch 14/20\n",
      "14890/14890 [==============================] - 332s 22ms/step - loss: 0.1563 - accuracy: 0.9207 - val_loss: 0.2614 - val_accuracy: 0.8922\n",
      "Epoch 15/20\n",
      "14890/14890 [==============================] - 332s 22ms/step - loss: 0.1544 - accuracy: 0.9215 - val_loss: 0.2844 - val_accuracy: 0.8909\n",
      "Epoch 16/20\n",
      "14890/14890 [==============================] - 333s 22ms/step - loss: 0.1502 - accuracy: 0.9237 - val_loss: 0.2611 - val_accuracy: 0.8923\n",
      "Epoch 17/20\n",
      "14890/14890 [==============================] - 313s 21ms/step - loss: 0.1481 - accuracy: 0.9244 - val_loss: 0.2486 - val_accuracy: 0.8944\n",
      "Epoch 18/20\n",
      "14890/14890 [==============================] - 314s 21ms/step - loss: 0.1457 - accuracy: 0.9251 - val_loss: 0.2599 - val_accuracy: 0.8923\n",
      "Epoch 19/20\n",
      "14890/14890 [==============================] - 350s 23ms/step - loss: 0.1444 - accuracy: 0.9257 - val_loss: 0.2461 - val_accuracy: 0.8936\n",
      "Epoch 20/20\n",
      "14890/14890 [==============================] - 314s 21ms/step - loss: 0.1421 - accuracy: 0.9271 - val_loss: 0.2416 - val_accuracy: 0.8953\n"
     ]
    }
   ],
   "source": [
    "from tensorflow.keras.layers import Input, SimpleRNN, GRU, LSTM, Dense, Flatten, GlobalMaxPool1D, Dropout\n",
    "from tensorflow.keras.models import Model\n",
    "from tensorflow.keras.optimizers import SGD, Adam\n",
    "i = Input(shape=x_train[0].shape)\n",
    "x = LSTM(512, return_sequences=True)(i)\n",
    "x = GlobalMaxPool1D()(x)\n",
    "x = Dense(512, activation = 'relu')(x)\n",
    "x = Dropout(0.2)(x)\n",
    "x = Dense(512, activation = 'relu')(x)\n",
    "x = Dropout(0.3)(x)\n",
    "x = Dense(1, activation='sigmoid')(x)\n",
    "model = Model(i, x)\n",
    "model.summary()\n",
    "model.compile(optimizer='adam',\n",
    "              loss='binary_crossentropy',\n",
    "              metrics=['accuracy'])\n",
    "r = model.fit(x_train, y_train, validation_data=(x_test, y_test), epochs=20)"
   ]
  },
  {
   "cell_type": "markdown",
   "id": "agreed-tuesday",
   "metadata": {},
   "source": [
    "## Model Evaluation\n",
    "\n",
    "The model is able to get an accuracy of .08953 and the seems to have performance plateau around the 6th and 7th epoch. "
   ]
  },
  {
   "cell_type": "code",
   "execution_count": 67,
   "id": "renewable-electricity",
   "metadata": {},
   "outputs": [
    {
     "data": {
      "text/plain": [
       "<matplotlib.legend.Legend at 0x7fe1ef66a7c0>"
      ]
     },
     "execution_count": 67,
     "metadata": {},
     "output_type": "execute_result"
    },
    {
     "data": {
      "image/png": "[encoded data removed]",
      "text/plain": [
       "<Figure size 432x288 with 1 Axes>"
      ]
     },
     "metadata": {
      "needs_background": "light"
     },
     "output_type": "display_data"
    }
   ],
   "source": [
    "# Plot loss per iteration\n",
    "import matplotlib.pyplot as plt\n",
    "plt.plot(r.history['loss'], label='loss')\n",
    "plt.plot(r.history['val_loss'], label='val_loss')\n",
    "plt.legend()"
   ]
  },
  {
   "cell_type": "code",
   "execution_count": 68,
   "id": "fundamental-digit",
   "metadata": {},
   "outputs": [
    {
     "data": {
      "text/plain": [
       "<matplotlib.legend.Legend at 0x7fe1e6011670>"
      ]
     },
     "execution_count": 68,
     "metadata": {},
     "output_type": "execute_result"
    },
    {
     "data": {
      "image/png": "[encoded data removed]",
      "text/plain": [
       "<Figure size 432x288 with 1 Axes>"
      ]
     },
     "metadata": {
      "needs_background": "light"
     },
     "output_type": "display_data"
    }
   ],
   "source": [
    "# Plot accuracy per iteration\n",
    "plt.plot(r.history['accuracy'], label='acc')\n",
    "plt.plot(r.history['val_accuracy'], label='val_acc')\n",
    "plt.legend()"
   ]
  },
  {
   "cell_type": "markdown",
   "id": "separate-calculator",
   "metadata": {},
   "source": [
    "## Export The Model\n",
    "Save the model. The naming convetion used is the number of epochs used to train and the number of chess games in the dataset."
   ]
  },
  {
   "cell_type": "code",
   "execution_count": 69,
   "id": "arranged-revolution",
   "metadata": {},
   "outputs": [],
   "source": [
    "model.save('chess_10000_20_redux.h5')"
   ]
  },
  {
   "cell_type": "code",
   "execution_count": null,
   "id": "improving-converter",
   "metadata": {},
   "outputs": [],
   "source": []
  },
  {
   "cell_type": "code",
   "execution_count": null,
   "id": "phantom-murder",
   "metadata": {},
   "outputs": [],
   "source": []
  }
 ],
 "metadata": {
  "kernelspec": {
   "display_name": "Python 3",
   "language": "python",
   "name": "python3"
  },
  "language_info": {
   "codemirror_mode": {
    "name": "ipython",
    "version": 3
   },
   "file_extension": ".py",
   "mimetype": "text/x-python",
   "name": "python",
   "nbconvert_exporter": "python",
   "pygments_lexer": "ipython3",
   "version": "3.8.10"
  }
 },
 "nbformat": 4,
 "nbformat_minor": 5
}
